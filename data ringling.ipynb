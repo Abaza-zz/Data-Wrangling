{
 "metadata": {
  "language_info": {
   "codemirror_mode": {
    "name": "ipython",
    "version": 3
   },
   "file_extension": ".py",
   "mimetype": "text/x-python",
   "name": "python",
   "nbconvert_exporter": "python",
   "pygments_lexer": "ipython3",
   "version": "3.7.0-final"
  },
  "orig_nbformat": 2,
  "kernelspec": {
   "name": "python_defaultSpec_1599989123402",
   "display_name": "Python 3.7.0 64-bit"
  }
 },
 "nbformat": 4,
 "nbformat_minor": 2,
 "cells": [
  {
   "cell_type": "code",
   "execution_count": 78,
   "metadata": {},
   "outputs": [],
   "source": [
    "import pandas as pd"
   ]
  },
  {
   "cell_type": "code",
   "execution_count": 79,
   "metadata": {},
   "outputs": [],
   "source": [
    "df = pd.read_csv('C:/Users/v19babaza/Downloads/New folder (2)/twitter-archive-enhanced-2.csv')"
   ]
  },
  {
   "cell_type": "code",
   "execution_count": 96,
   "metadata": {
    "tags": []
   },
   "outputs": [
    {
     "output_type": "execute_result",
     "data": {
      "text/plain": "tweet_id                      2356\nin_reply_to_status_id           78\nin_reply_to_user_id             78\ntimestamp                     2356\nsource                        2356\ntext                          2356\nretweeted_status_id            181\nretweeted_status_user_id       181\nretweeted_status_timestamp     181\nexpanded_urls                 2297\nrating_numerator              2356\nrating_denominator            2356\nname                          2356\ndoggo                         2356\nfloofer                       2356\npupper                        2356\npuppo                         2356\ndtype: int64"
     },
     "metadata": {},
     "execution_count": 96
    }
   ],
   "source": [
    "df.count()"
   ]
  },
  {
   "cell_type": "code",
   "execution_count": 80,
   "metadata": {},
   "outputs": [],
   "source": [
    "df_no_relply=df[df['in_reply_to_status_id'].isnull()]"
   ]
  },
  {
   "cell_type": "code",
   "execution_count": 81,
   "metadata": {},
   "outputs": [],
   "source": [
    "df_no_relply_and_retweets=df_no_relply[df_no_relply['retweeted_status_id'].isnull()]"
   ]
  },
  {
   "cell_type": "code",
   "execution_count": 82,
   "metadata": {
    "tags": []
   },
   "outputs": [
    {
     "output_type": "execute_result",
     "data": {
      "text/plain": "2278"
     },
     "metadata": {},
     "execution_count": 82
    }
   ],
   "source": [
    "sum(df_no_relply.in_reply_to_status_id.isnull())"
   ]
  },
  {
   "cell_type": "code",
   "execution_count": 83,
   "metadata": {},
   "outputs": [
    {
     "output_type": "execute_result",
     "data": {
      "text/plain": "2097"
     },
     "metadata": {},
     "execution_count": 83
    }
   ],
   "source": [
    "sum(df_no_relply_and_retweets.in_reply_to_status_id.isnull())"
   ]
  },
  {
   "cell_type": "code",
   "execution_count": 84,
   "metadata": {},
   "outputs": [
    {
     "output_type": "execute_result",
     "data": {
      "text/plain": "2097"
     },
     "metadata": {},
     "execution_count": 84
    }
   ],
   "source": [
    "sum(df_no_relply_and_retweets.retweeted_status_id.isnull())"
   ]
  },
  {
   "cell_type": "code",
   "execution_count": 85,
   "metadata": {
    "tags": []
   },
   "outputs": [
    {
     "output_type": "stream",
     "name": "stdout",
     "text": "<class 'pandas.core.frame.DataFrame'>\nInt64Index: 2097 entries, 0 to 2355\nData columns (total 17 columns):\n #   Column                      Non-Null Count  Dtype  \n---  ------                      --------------  -----  \n 0   tweet_id                    2097 non-null   int64  \n 1   in_reply_to_status_id       0 non-null      float64\n 2   in_reply_to_user_id         0 non-null      float64\n 3   timestamp                   2097 non-null   object \n 4   source                      2097 non-null   object \n 5   text                        2097 non-null   object \n 6   retweeted_status_id         0 non-null      float64\n 7   retweeted_status_user_id    0 non-null      float64\n 8   retweeted_status_timestamp  0 non-null      object \n 9   expanded_urls               2094 non-null   object \n 10  rating_numerator            2097 non-null   int64  \n 11  rating_denominator          2097 non-null   int64  \n 12  name                        2097 non-null   object \n 13  doggo                       2097 non-null   object \n 14  floofer                     2097 non-null   object \n 15  pupper                      2097 non-null   object \n 16  puppo                       2097 non-null   object \ndtypes: float64(4), int64(3), object(10)\nmemory usage: 294.9+ KB\n"
    }
   ],
   "source": [
    "df_no_relply_and_retweets.info()"
   ]
  },
  {
   "cell_type": "code",
   "execution_count": 86,
   "metadata": {},
   "outputs": [],
   "source": [
    "df_no_relply_and_retweets.drop(['in_reply_to_status_id', 'in_reply_to_user_id','retweeted_status_id','retweeted_status_user_id','retweeted_status_timestamp'],inplace=True, axis=1)"
   ]
  },
  {
   "cell_type": "code",
   "execution_count": 88,
   "metadata": {
    "tags": []
   },
   "outputs": [
    {
     "output_type": "execute_result",
     "data": {
      "text/plain": "             tweet_id                  timestamp  \\\n0  892420643555336193  2017-08-01 16:23:56 +0000   \n\n                                              source  \\\n0  <a href=\"http://twitter.com/download/iphone\" r...   \n\n                                                text  \\\n0  This is Phineas. He's a mystical boy. Only eve...   \n\n                                       expanded_urls  rating_numerator  \\\n0  https://twitter.com/dog_rates/status/892420643...                13   \n\n   rating_denominator     name doggo floofer pupper puppo  \n0                  10  Phineas  None    None   None  None  ",
      "text/html": "<div>\n<style scoped>\n    .dataframe tbody tr th:only-of-type {\n        vertical-align: middle;\n    }\n\n    .dataframe tbody tr th {\n        vertical-align: top;\n    }\n\n    .dataframe thead th {\n        text-align: right;\n    }\n</style>\n<table border=\"1\" class=\"dataframe\">\n  <thead>\n    <tr style=\"text-align: right;\">\n      <th></th>\n      <th>tweet_id</th>\n      <th>timestamp</th>\n      <th>source</th>\n      <th>text</th>\n      <th>expanded_urls</th>\n      <th>rating_numerator</th>\n      <th>rating_denominator</th>\n      <th>name</th>\n      <th>doggo</th>\n      <th>floofer</th>\n      <th>pupper</th>\n      <th>puppo</th>\n    </tr>\n  </thead>\n  <tbody>\n    <tr>\n      <th>0</th>\n      <td>892420643555336193</td>\n      <td>2017-08-01 16:23:56 +0000</td>\n      <td>&lt;a href=\"http://twitter.com/download/iphone\" r...</td>\n      <td>This is Phineas. He's a mystical boy. Only eve...</td>\n      <td>https://twitter.com/dog_rates/status/892420643...</td>\n      <td>13</td>\n      <td>10</td>\n      <td>Phineas</td>\n      <td>None</td>\n      <td>None</td>\n      <td>None</td>\n      <td>None</td>\n    </tr>\n  </tbody>\n</table>\n</div>"
     },
     "metadata": {},
     "execution_count": 88
    }
   ],
   "source": [
    "df_no_relply_and_retweets.head(1)"
   ]
  },
  {
   "cell_type": "code",
   "execution_count": null,
   "metadata": {},
   "outputs": [],
   "source": [
    "2017-08-01 16:23:56 +0000"
   ]
  },
  {
   "cell_type": "code",
   "execution_count": 89,
   "metadata": {},
   "outputs": [
    {
     "output_type": "execute_result",
     "data": {
      "text/plain": "'2017-08-01 16:23:56'"
     },
     "metadata": {},
     "execution_count": 89
    }
   ],
   "source": [
    "df['timestamp'][0][:-6]"
   ]
  },
  {
   "cell_type": "code",
   "execution_count": 90,
   "metadata": {},
   "outputs": [],
   "source": [
    "df_no_relply_and_retweets['timestamp'] = pd.to_datetime(df_no_relply_and_retweets['timestamp'].str[:-6], format='%Y-%m-%d %H:%M:%S')"
   ]
  },
  {
   "cell_type": "code",
   "execution_count": 120,
   "metadata": {},
   "outputs": [
    {
     "output_type": "execute_result",
     "data": {
      "text/plain": "                tweet_id           timestamp  \\\n1558  688789766343622656 2016-01-17 18:27:32   \n1838  675898130735476737 2015-12-13 04:40:46   \n980   749774190421639168 2016-07-04 01:17:51   \n72    878604707211726852 2017-06-24 13:24:20   \n456   818259473185828864 2017-01-09 00:53:55   \n808   771770456517009408 2016-09-02 18:03:10   \n1274  709198395643068416 2016-03-14 02:04:08   \n352   831315979191906304 2017-02-14 01:35:49   \n1926  674053186244734976 2015-12-08 02:29:37   \n2294  667138269671505920 2015-11-19 00:32:12   \n107   871762521631449091 2017-06-05 16:15:56   \n1897  674737130913071104 2015-12-09 23:47:22   \n713   784183165795655680 2016-10-07 00:06:50   \n1747  679111216690831360 2015-12-22 01:28:25   \n1976  672995267319328768 2015-12-05 04:25:50   \n1498  692417313023332352 2016-01-27 18:42:06   \n1788  677557565589463040 2015-12-17 18:34:46   \n12    889665388333682689 2017-07-25 01:55:32   \n1120  731156023742988288 2016-05-13 16:15:54   \n1141  727644517743104000 2016-05-03 23:42:26   \n2273  667470559035432960 2015-11-19 22:32:36   \n1236  712438159032893441 2016-03-23 00:37:48   \n799   772826264096874500 2016-09-05 15:58:34   \n2030  671789708968640512 2015-12-01 20:35:22   \n2247  667873844930215936 2015-11-21 01:15:07   \n1798  677228873407442944 2015-12-16 20:48:40   \n1703  680913438424612864 2015-12-27 00:49:49   \n1215  715009755312439296 2016-03-30 02:56:24   \n924   755206590534418437 2016-07-19 01:04:16   \n1386  700518061187723268 2016-02-19 03:11:35   \n1868  675166823650848770 2015-12-11 04:14:49   \n1302  707610948723478529 2016-03-09 16:56:11   \n609   797545162159308800 2016-11-12 21:02:38   \n1896  674739953134403584 2015-12-09 23:58:35   \n2257  667728196545200128 2015-11-20 15:36:22   \n529   808344865868283904 2016-12-12 16:16:49   \n85    876120275196170240 2017-06-17 16:52:05   \n436   820314633777061888 2017-01-14 17:00:24   \n1000  747963614829678593 2016-06-29 01:23:16   \n242   846153765933735936 2017-03-27 00:15:53   \n756   778650543019483137 2016-09-21 17:42:10   \n339   832273440279240704 2017-02-16 17:00:25   \n1780  677700003327029250 2015-12-18 04:00:46   \n1268  709556954897764353 2016-03-15 01:48:55   \n338   832369877331693569 2017-02-16 23:23:38   \n1711  680497766108381184 2015-12-25 21:18:05   \n1989  672828477930868736 2015-12-04 17:23:04   \n459   817827839487737858 2017-01-07 20:18:46   \n451   818627210458333184 2017-01-10 01:15:10   \n1129  729463711119904772 2016-05-09 00:11:16   \n\n                                                 source  \\\n1558  <a href=\"http://twitter.com/download/iphone\" r...   \n1838  <a href=\"http://twitter.com/download/iphone\" r...   \n980   <a href=\"http://twitter.com/download/iphone\" r...   \n72    <a href=\"http://twitter.com/download/iphone\" r...   \n456   <a href=\"http://twitter.com/download/iphone\" r...   \n808   <a href=\"http://twitter.com/download/iphone\" r...   \n1274  <a href=\"http://twitter.com/download/iphone\" r...   \n352   <a href=\"http://twitter.com\" rel=\"nofollow\">Tw...   \n1926  <a href=\"http://twitter.com/download/iphone\" r...   \n2294  <a href=\"http://twitter.com/download/iphone\" r...   \n107   <a href=\"http://twitter.com/download/iphone\" r...   \n1897  <a href=\"http://twitter.com/download/iphone\" r...   \n713   <a href=\"http://vine.co\" rel=\"nofollow\">Vine -...   \n1747  <a href=\"http://twitter.com/download/iphone\" r...   \n1976  <a href=\"http://twitter.com/download/iphone\" r...   \n1498  <a href=\"http://twitter.com/download/iphone\" r...   \n1788  <a href=\"http://twitter.com/download/iphone\" r...   \n12    <a href=\"http://twitter.com/download/iphone\" r...   \n1120  <a href=\"http://twitter.com/download/iphone\" r...   \n1141  <a href=\"http://twitter.com/download/iphone\" r...   \n2273  <a href=\"http://twitter.com\" rel=\"nofollow\">Tw...   \n1236  <a href=\"http://twitter.com/download/iphone\" r...   \n799   <a href=\"http://twitter.com/download/iphone\" r...   \n2030  <a href=\"http://twitter.com/download/iphone\" r...   \n2247  <a href=\"http://twitter.com/download/iphone\" r...   \n1798  <a href=\"http://twitter.com/download/iphone\" r...   \n1703  <a href=\"http://twitter.com/download/iphone\" r...   \n1215  <a href=\"http://twitter.com/download/iphone\" r...   \n924   <a href=\"http://twitter.com/download/iphone\" r...   \n1386  <a href=\"http://twitter.com/download/iphone\" r...   \n1868  <a href=\"http://twitter.com/download/iphone\" r...   \n1302  <a href=\"http://twitter.com/download/iphone\" r...   \n609   <a href=\"http://twitter.com/download/iphone\" r...   \n1896  <a href=\"http://twitter.com/download/iphone\" r...   \n2257  <a href=\"http://twitter.com\" rel=\"nofollow\">Tw...   \n529   <a href=\"http://vine.co\" rel=\"nofollow\">Vine -...   \n85    <a href=\"http://twitter.com/download/iphone\" r...   \n436   <a href=\"http://twitter.com/download/iphone\" r...   \n1000  <a href=\"http://twitter.com/download/iphone\" r...   \n242   <a href=\"http://twitter.com/download/iphone\" r...   \n756   <a href=\"http://twitter.com/download/iphone\" r...   \n339   <a href=\"http://twitter.com/download/iphone\" r...   \n1780  <a href=\"http://twitter.com/download/iphone\" r...   \n1268  <a href=\"http://twitter.com/download/iphone\" r...   \n338   <a href=\"http://twitter.com/download/iphone\" r...   \n1711  <a href=\"http://twitter.com/download/iphone\" r...   \n1989  <a href=\"http://twitter.com/download/iphone\" r...   \n459   <a href=\"http://twitter.com/download/iphone\" r...   \n451   <a href=\"http://twitter.com/download/iphone\" r...   \n1129  <a href=\"http://twitter.com/download/iphone\" r...   \n\n                                                   text  \\\n1558  Meet Pubert. He's a Kerplunk Rumplestilt. Cann...   \n1838  I'm sure you've all seen this pupper. Not prep...   \n980   This is Lucy. She's a Benebop Cumberplop. 12/1...   \n72    Martha is stunning how h*ckin dare you. 13/10 ...   \n456   This is Florence. He saw the same snap you sen...   \n808   This is Davey. He'll have your daughter home b...   \n1274  From left to right:\\nCletus, Jerome, Alejandro...   \n352   I couldn't make it to the #WKCDogShow BUT I ha...   \n1926  This is Stanley. Yes he is aware of the spoon'...   \n2294  Extremely intelligent dog here. Has learned to...   \n107   This is Rover. As part of pupper protocol he h...   \n1897  Meet Rufio. He is unaware of the pink legless ...   \n713   This is Reginald. He's one magical puppo. Aero...   \n1747  This is officially the greatest yawn of all ti...   \n1976  This is Pumpkin. He can look in two different ...   \n1498  Meet Herschel. He's slightly bigger than ur av...   \n1788  Reckless pupper here. Not even looking at road...   \n12    Here's a puppo that seems to be on the fence a...   \n1120  Say hello to this unbelievably well behaved sq...   \n1141  Here's a doggo struggling to cope with the win...   \n2273  This is a northern Wahoo named Kohl. He runs t...   \n1236  This is Kane. He's a semi-submerged Haitian Hu...   \n799   Meet Roosevelt. He's preparing for takeoff. Ma...   \n2030  This is space pup. He's very confused. Tries t...   \n2247  Neat dog. Lots of spikes. Always in push-up po...   \n1798  Say hello to Chuq. He just wants to fit in. 11...   \n1703  Meet Griswold. He's dapper as hell. Already pu...   \n1215  This is Siba. She's remarkably mobile. Very sl...   \n924   This is one of the most inspirational stories ...   \n1386  This is Vincent. He's the man your girl is wit...   \n1868  This is Arnold. He broke his leg saving a hand...   \n1302  This is Harper. She scraped her elbow attempti...   \n609   This is Cassie. She steals things. Guilt incre...   \n1896  \"🎶 DO YOU BELIEVE IN LIFE AFTER LOVE 🎶\"\\n11/10...   \n2257  Meet Olive. He comes to spot by tree to remini...   \n529   This is Seamus. He's very bad at entering pool...   \n85    Meet Venti, a seemingly caffeinated puppoccino...   \n436   We are proud to support @LoveYourMelon on thei...   \n1000  PUPPER NOOOOO BEHIND YOUUU 10/10 pls keep this...   \n242   This is Vixen. He really likes bananas. Steals...   \n756   Meet Strider. He thinks he's a sorority girl. ...   \n339   Say hello to Smiley. He's a blind therapy dogg...   \n1780  This is Ralph. He's an interpretive dancer. 10...   \n1268  This is Cecil. She's a Gigglefloof Poofer. Out...   \n338   This is Charlie. He fell asleep on a heating v...   \n1711  Meet Percy. He's a Latvian Yuletide Heineken. ...   \n1989  This is Jerry. He's a Timbuk Slytherin. Eats h...   \n459   This is Buddy. He ran into a glass door once. ...   \n451   Meet Wafer. He represents every fiber of my be...   \n1129  Meet Pupcasso. You can't afford his art. 13/10...   \n\n                                          expanded_urls  rating_numerator  \\\n1558  https://twitter.com/dog_rates/status/688789766...                 8   \n1838  https://twitter.com/dog_rates/status/675898130...                10   \n980   https://twitter.com/dog_rates/status/749774190...                12   \n72    https://twitter.com/bbcworld/status/8785998685...                13   \n456   https://twitter.com/dog_rates/status/818259473...                12   \n808   https://twitter.com/dog_rates/status/771770456...                11   \n1274  https://twitter.com/dog_rates/status/709198395...                45   \n352   https://twitter.com/dog_rates/status/831315979...                13   \n1926  https://twitter.com/dog_rates/status/674053186...                10   \n2294  https://twitter.com/dog_rates/status/667138269...                10   \n107   https://twitter.com/dog_rates/status/871762521...                12   \n1897  https://twitter.com/dog_rates/status/674737130...                10   \n713                       https://vine.co/v/5ghHLBMMdlV                12   \n1747  https://twitter.com/dog_rates/status/679111216...                12   \n1976  https://twitter.com/dog_rates/status/672995267...                 8   \n1498  https://twitter.com/dog_rates/status/692417313...                 7   \n1788  https://twitter.com/dog_rates/status/677557565...                10   \n12    https://twitter.com/dog_rates/status/889665388...                13   \n1120  https://twitter.com/dog_rates/status/731156023...               204   \n1141  https://twitter.com/dog_rates/status/727644517...                13   \n2273  https://twitter.com/dog_rates/status/667470559...                11   \n1236  https://twitter.com/dog_rates/status/712438159...                11   \n799   https://twitter.com/dog_rates/status/772826264...                11   \n2030  https://twitter.com/dog_rates/status/671789708...                13   \n2247  https://twitter.com/dog_rates/status/667873844...                10   \n1798  https://twitter.com/dog_rates/status/677228873...                11   \n1703  https://twitter.com/dog_rates/status/680913438...                11   \n1215  https://twitter.com/dog_rates/status/715009755...                12   \n924   https://twitter.com/dog_rates/status/755206590...                14   \n1386  https://twitter.com/dog_rates/status/700518061...                10   \n1868  https://twitter.com/dog_rates/status/675166823...                10   \n1302  https://twitter.com/dog_rates/status/707610948...                12   \n609   https://twitter.com/dog_rates/status/797545162...                12   \n1896  https://twitter.com/dog_rates/status/674739953...                11   \n2257  https://twitter.com/dog_rates/status/667728196...                11   \n529                       https://vine.co/v/5QWd3LZqXxd                11   \n85    https://twitter.com/dog_rates/status/876120275...                13   \n436   https://www.loveyourmelon.com/pages/ourstory,h...                14   \n1000  https://twitter.com/dog_rates/status/747963614...                10   \n242   https://twitter.com/dog_rates/status/846153765...                13   \n756   https://twitter.com/dog_rates/status/778650543...                10   \n339   https://twitter.com/dog_rates/status/832273440...                14   \n1780  https://twitter.com/dog_rates/status/677700003...                10   \n1268  https://twitter.com/dog_rates/status/709556954...                12   \n338   https://twitter.com/dog_rates/status/832369877...                11   \n1711  https://twitter.com/dog_rates/status/680497766...                12   \n1989  https://twitter.com/dog_rates/status/672828477...                 9   \n459   https://twitter.com/dog_rates/status/817827839...                13   \n451   https://twitter.com/dog_rates/status/818627210...                13   \n1129  https://twitter.com/dog_rates/status/729463711...                13   \n\n      rating_denominator        name  doggo floofer  pupper  puppo  \n1558                  10      Pubert   None    None    None   None  \n1838                  10        None   None    None  pupper   None  \n980                   10        Lucy   None    None    None   None  \n72                    10        None   None    None    None   None  \n456                   10    Florence   None    None    None   None  \n808                   10       Davey   None    None    None   None  \n1274                  50        None   None    None    None   None  \n352                   10        None   None    None  pupper   None  \n1926                  10     Stanley   None    None    None   None  \n2294                  10        None   None    None    None   None  \n107                   10       Rover   None    None  pupper   None  \n1897                  10       Rufio   None    None  pupper   None  \n713                   10    Reginald   None    None    None  puppo  \n1747                  10  officially   None    None    None   None  \n1976                  10     Pumpkin   None    None    None   None  \n1498                  10    Herschel   None    None  pupper   None  \n1788                  10        None   None    None  pupper   None  \n12                    10        None   None    None    None  puppo  \n1120                 170        this   None    None    None   None  \n1141                  10        None  doggo    None    None   None  \n2273                  10           a   None    None    None   None  \n1236                  10        Kane   None    None    None   None  \n799                   10   Roosevelt   None    None    None   None  \n2030                  10       space   None    None    None   None  \n2247                  10        None   None    None    None   None  \n1798                  10        Chuq   None    None    None   None  \n1703                  10    Griswold   None    None    None   None  \n1215                  10        Siba   None    None    None   None  \n924                   10         one  doggo    None    None   None  \n1386                  10     Vincent   None    None    None   None  \n1868                  10      Arnold   None    None    None   None  \n1302                  10      Harper   None    None    None   None  \n609                   10      Cassie   None    None    None   None  \n1896                  10        None   None    None    None   None  \n2257                  10       Olive   None    None    None   None  \n529                   10      Seamus   None    None    None   None  \n85                    10       Venti   None    None    None   None  \n436                   10        None   None    None    None   None  \n1000                  10        None   None    None  pupper   None  \n242                   10       Vixen   None    None    None   None  \n756                   10     Strider   None    None    None   None  \n339                   10      Smiley  doggo    None    None   None  \n1780                  10       Ralph   None    None    None   None  \n1268                  10       Cecil   None    None    None   None  \n338                   10     Charlie   None    None    None   None  \n1711                  10       Percy   None    None    None   None  \n1989                  10       Jerry   None    None    None   None  \n459                   10       Buddy   None    None    None   None  \n451                   10       Wafer   None    None    None   None  \n1129                  10    Pupcasso   None    None    None   None  ",
      "text/html": "<div>\n<style scoped>\n    .dataframe tbody tr th:only-of-type {\n        vertical-align: middle;\n    }\n\n    .dataframe tbody tr th {\n        vertical-align: top;\n    }\n\n    .dataframe thead th {\n        text-align: right;\n    }\n</style>\n<table border=\"1\" class=\"dataframe\">\n  <thead>\n    <tr style=\"text-align: right;\">\n      <th></th>\n      <th>tweet_id</th>\n      <th>timestamp</th>\n      <th>source</th>\n      <th>text</th>\n      <th>expanded_urls</th>\n      <th>rating_numerator</th>\n      <th>rating_denominator</th>\n      <th>name</th>\n      <th>doggo</th>\n      <th>floofer</th>\n      <th>pupper</th>\n      <th>puppo</th>\n    </tr>\n  </thead>\n  <tbody>\n    <tr>\n      <th>1558</th>\n      <td>688789766343622656</td>\n      <td>2016-01-17 18:27:32</td>\n      <td>&lt;a href=\"http://twitter.com/download/iphone\" r...</td>\n      <td>Meet Pubert. He's a Kerplunk Rumplestilt. Cann...</td>\n      <td>https://twitter.com/dog_rates/status/688789766...</td>\n      <td>8</td>\n      <td>10</td>\n      <td>Pubert</td>\n      <td>None</td>\n      <td>None</td>\n      <td>None</td>\n      <td>None</td>\n    </tr>\n    <tr>\n      <th>1838</th>\n      <td>675898130735476737</td>\n      <td>2015-12-13 04:40:46</td>\n      <td>&lt;a href=\"http://twitter.com/download/iphone\" r...</td>\n      <td>I'm sure you've all seen this pupper. Not prep...</td>\n      <td>https://twitter.com/dog_rates/status/675898130...</td>\n      <td>10</td>\n      <td>10</td>\n      <td>None</td>\n      <td>None</td>\n      <td>None</td>\n      <td>pupper</td>\n      <td>None</td>\n    </tr>\n    <tr>\n      <th>980</th>\n      <td>749774190421639168</td>\n      <td>2016-07-04 01:17:51</td>\n      <td>&lt;a href=\"http://twitter.com/download/iphone\" r...</td>\n      <td>This is Lucy. She's a Benebop Cumberplop. 12/1...</td>\n      <td>https://twitter.com/dog_rates/status/749774190...</td>\n      <td>12</td>\n      <td>10</td>\n      <td>Lucy</td>\n      <td>None</td>\n      <td>None</td>\n      <td>None</td>\n      <td>None</td>\n    </tr>\n    <tr>\n      <th>72</th>\n      <td>878604707211726852</td>\n      <td>2017-06-24 13:24:20</td>\n      <td>&lt;a href=\"http://twitter.com/download/iphone\" r...</td>\n      <td>Martha is stunning how h*ckin dare you. 13/10 ...</td>\n      <td>https://twitter.com/bbcworld/status/8785998685...</td>\n      <td>13</td>\n      <td>10</td>\n      <td>None</td>\n      <td>None</td>\n      <td>None</td>\n      <td>None</td>\n      <td>None</td>\n    </tr>\n    <tr>\n      <th>456</th>\n      <td>818259473185828864</td>\n      <td>2017-01-09 00:53:55</td>\n      <td>&lt;a href=\"http://twitter.com/download/iphone\" r...</td>\n      <td>This is Florence. He saw the same snap you sen...</td>\n      <td>https://twitter.com/dog_rates/status/818259473...</td>\n      <td>12</td>\n      <td>10</td>\n      <td>Florence</td>\n      <td>None</td>\n      <td>None</td>\n      <td>None</td>\n      <td>None</td>\n    </tr>\n    <tr>\n      <th>808</th>\n      <td>771770456517009408</td>\n      <td>2016-09-02 18:03:10</td>\n      <td>&lt;a href=\"http://twitter.com/download/iphone\" r...</td>\n      <td>This is Davey. He'll have your daughter home b...</td>\n      <td>https://twitter.com/dog_rates/status/771770456...</td>\n      <td>11</td>\n      <td>10</td>\n      <td>Davey</td>\n      <td>None</td>\n      <td>None</td>\n      <td>None</td>\n      <td>None</td>\n    </tr>\n    <tr>\n      <th>1274</th>\n      <td>709198395643068416</td>\n      <td>2016-03-14 02:04:08</td>\n      <td>&lt;a href=\"http://twitter.com/download/iphone\" r...</td>\n      <td>From left to right:\\nCletus, Jerome, Alejandro...</td>\n      <td>https://twitter.com/dog_rates/status/709198395...</td>\n      <td>45</td>\n      <td>50</td>\n      <td>None</td>\n      <td>None</td>\n      <td>None</td>\n      <td>None</td>\n      <td>None</td>\n    </tr>\n    <tr>\n      <th>352</th>\n      <td>831315979191906304</td>\n      <td>2017-02-14 01:35:49</td>\n      <td>&lt;a href=\"http://twitter.com\" rel=\"nofollow\"&gt;Tw...</td>\n      <td>I couldn't make it to the #WKCDogShow BUT I ha...</td>\n      <td>https://twitter.com/dog_rates/status/831315979...</td>\n      <td>13</td>\n      <td>10</td>\n      <td>None</td>\n      <td>None</td>\n      <td>None</td>\n      <td>pupper</td>\n      <td>None</td>\n    </tr>\n    <tr>\n      <th>1926</th>\n      <td>674053186244734976</td>\n      <td>2015-12-08 02:29:37</td>\n      <td>&lt;a href=\"http://twitter.com/download/iphone\" r...</td>\n      <td>This is Stanley. Yes he is aware of the spoon'...</td>\n      <td>https://twitter.com/dog_rates/status/674053186...</td>\n      <td>10</td>\n      <td>10</td>\n      <td>Stanley</td>\n      <td>None</td>\n      <td>None</td>\n      <td>None</td>\n      <td>None</td>\n    </tr>\n    <tr>\n      <th>2294</th>\n      <td>667138269671505920</td>\n      <td>2015-11-19 00:32:12</td>\n      <td>&lt;a href=\"http://twitter.com/download/iphone\" r...</td>\n      <td>Extremely intelligent dog here. Has learned to...</td>\n      <td>https://twitter.com/dog_rates/status/667138269...</td>\n      <td>10</td>\n      <td>10</td>\n      <td>None</td>\n      <td>None</td>\n      <td>None</td>\n      <td>None</td>\n      <td>None</td>\n    </tr>\n    <tr>\n      <th>107</th>\n      <td>871762521631449091</td>\n      <td>2017-06-05 16:15:56</td>\n      <td>&lt;a href=\"http://twitter.com/download/iphone\" r...</td>\n      <td>This is Rover. As part of pupper protocol he h...</td>\n      <td>https://twitter.com/dog_rates/status/871762521...</td>\n      <td>12</td>\n      <td>10</td>\n      <td>Rover</td>\n      <td>None</td>\n      <td>None</td>\n      <td>pupper</td>\n      <td>None</td>\n    </tr>\n    <tr>\n      <th>1897</th>\n      <td>674737130913071104</td>\n      <td>2015-12-09 23:47:22</td>\n      <td>&lt;a href=\"http://twitter.com/download/iphone\" r...</td>\n      <td>Meet Rufio. He is unaware of the pink legless ...</td>\n      <td>https://twitter.com/dog_rates/status/674737130...</td>\n      <td>10</td>\n      <td>10</td>\n      <td>Rufio</td>\n      <td>None</td>\n      <td>None</td>\n      <td>pupper</td>\n      <td>None</td>\n    </tr>\n    <tr>\n      <th>713</th>\n      <td>784183165795655680</td>\n      <td>2016-10-07 00:06:50</td>\n      <td>&lt;a href=\"http://vine.co\" rel=\"nofollow\"&gt;Vine -...</td>\n      <td>This is Reginald. He's one magical puppo. Aero...</td>\n      <td>https://vine.co/v/5ghHLBMMdlV</td>\n      <td>12</td>\n      <td>10</td>\n      <td>Reginald</td>\n      <td>None</td>\n      <td>None</td>\n      <td>None</td>\n      <td>puppo</td>\n    </tr>\n    <tr>\n      <th>1747</th>\n      <td>679111216690831360</td>\n      <td>2015-12-22 01:28:25</td>\n      <td>&lt;a href=\"http://twitter.com/download/iphone\" r...</td>\n      <td>This is officially the greatest yawn of all ti...</td>\n      <td>https://twitter.com/dog_rates/status/679111216...</td>\n      <td>12</td>\n      <td>10</td>\n      <td>officially</td>\n      <td>None</td>\n      <td>None</td>\n      <td>None</td>\n      <td>None</td>\n    </tr>\n    <tr>\n      <th>1976</th>\n      <td>672995267319328768</td>\n      <td>2015-12-05 04:25:50</td>\n      <td>&lt;a href=\"http://twitter.com/download/iphone\" r...</td>\n      <td>This is Pumpkin. He can look in two different ...</td>\n      <td>https://twitter.com/dog_rates/status/672995267...</td>\n      <td>8</td>\n      <td>10</td>\n      <td>Pumpkin</td>\n      <td>None</td>\n      <td>None</td>\n      <td>None</td>\n      <td>None</td>\n    </tr>\n    <tr>\n      <th>1498</th>\n      <td>692417313023332352</td>\n      <td>2016-01-27 18:42:06</td>\n      <td>&lt;a href=\"http://twitter.com/download/iphone\" r...</td>\n      <td>Meet Herschel. He's slightly bigger than ur av...</td>\n      <td>https://twitter.com/dog_rates/status/692417313...</td>\n      <td>7</td>\n      <td>10</td>\n      <td>Herschel</td>\n      <td>None</td>\n      <td>None</td>\n      <td>pupper</td>\n      <td>None</td>\n    </tr>\n    <tr>\n      <th>1788</th>\n      <td>677557565589463040</td>\n      <td>2015-12-17 18:34:46</td>\n      <td>&lt;a href=\"http://twitter.com/download/iphone\" r...</td>\n      <td>Reckless pupper here. Not even looking at road...</td>\n      <td>https://twitter.com/dog_rates/status/677557565...</td>\n      <td>10</td>\n      <td>10</td>\n      <td>None</td>\n      <td>None</td>\n      <td>None</td>\n      <td>pupper</td>\n      <td>None</td>\n    </tr>\n    <tr>\n      <th>12</th>\n      <td>889665388333682689</td>\n      <td>2017-07-25 01:55:32</td>\n      <td>&lt;a href=\"http://twitter.com/download/iphone\" r...</td>\n      <td>Here's a puppo that seems to be on the fence a...</td>\n      <td>https://twitter.com/dog_rates/status/889665388...</td>\n      <td>13</td>\n      <td>10</td>\n      <td>None</td>\n      <td>None</td>\n      <td>None</td>\n      <td>None</td>\n      <td>puppo</td>\n    </tr>\n    <tr>\n      <th>1120</th>\n      <td>731156023742988288</td>\n      <td>2016-05-13 16:15:54</td>\n      <td>&lt;a href=\"http://twitter.com/download/iphone\" r...</td>\n      <td>Say hello to this unbelievably well behaved sq...</td>\n      <td>https://twitter.com/dog_rates/status/731156023...</td>\n      <td>204</td>\n      <td>170</td>\n      <td>this</td>\n      <td>None</td>\n      <td>None</td>\n      <td>None</td>\n      <td>None</td>\n    </tr>\n    <tr>\n      <th>1141</th>\n      <td>727644517743104000</td>\n      <td>2016-05-03 23:42:26</td>\n      <td>&lt;a href=\"http://twitter.com/download/iphone\" r...</td>\n      <td>Here's a doggo struggling to cope with the win...</td>\n      <td>https://twitter.com/dog_rates/status/727644517...</td>\n      <td>13</td>\n      <td>10</td>\n      <td>None</td>\n      <td>doggo</td>\n      <td>None</td>\n      <td>None</td>\n      <td>None</td>\n    </tr>\n    <tr>\n      <th>2273</th>\n      <td>667470559035432960</td>\n      <td>2015-11-19 22:32:36</td>\n      <td>&lt;a href=\"http://twitter.com\" rel=\"nofollow\"&gt;Tw...</td>\n      <td>This is a northern Wahoo named Kohl. He runs t...</td>\n      <td>https://twitter.com/dog_rates/status/667470559...</td>\n      <td>11</td>\n      <td>10</td>\n      <td>a</td>\n      <td>None</td>\n      <td>None</td>\n      <td>None</td>\n      <td>None</td>\n    </tr>\n    <tr>\n      <th>1236</th>\n      <td>712438159032893441</td>\n      <td>2016-03-23 00:37:48</td>\n      <td>&lt;a href=\"http://twitter.com/download/iphone\" r...</td>\n      <td>This is Kane. He's a semi-submerged Haitian Hu...</td>\n      <td>https://twitter.com/dog_rates/status/712438159...</td>\n      <td>11</td>\n      <td>10</td>\n      <td>Kane</td>\n      <td>None</td>\n      <td>None</td>\n      <td>None</td>\n      <td>None</td>\n    </tr>\n    <tr>\n      <th>799</th>\n      <td>772826264096874500</td>\n      <td>2016-09-05 15:58:34</td>\n      <td>&lt;a href=\"http://twitter.com/download/iphone\" r...</td>\n      <td>Meet Roosevelt. He's preparing for takeoff. Ma...</td>\n      <td>https://twitter.com/dog_rates/status/772826264...</td>\n      <td>11</td>\n      <td>10</td>\n      <td>Roosevelt</td>\n      <td>None</td>\n      <td>None</td>\n      <td>None</td>\n      <td>None</td>\n    </tr>\n    <tr>\n      <th>2030</th>\n      <td>671789708968640512</td>\n      <td>2015-12-01 20:35:22</td>\n      <td>&lt;a href=\"http://twitter.com/download/iphone\" r...</td>\n      <td>This is space pup. He's very confused. Tries t...</td>\n      <td>https://twitter.com/dog_rates/status/671789708...</td>\n      <td>13</td>\n      <td>10</td>\n      <td>space</td>\n      <td>None</td>\n      <td>None</td>\n      <td>None</td>\n      <td>None</td>\n    </tr>\n    <tr>\n      <th>2247</th>\n      <td>667873844930215936</td>\n      <td>2015-11-21 01:15:07</td>\n      <td>&lt;a href=\"http://twitter.com/download/iphone\" r...</td>\n      <td>Neat dog. Lots of spikes. Always in push-up po...</td>\n      <td>https://twitter.com/dog_rates/status/667873844...</td>\n      <td>10</td>\n      <td>10</td>\n      <td>None</td>\n      <td>None</td>\n      <td>None</td>\n      <td>None</td>\n      <td>None</td>\n    </tr>\n    <tr>\n      <th>1798</th>\n      <td>677228873407442944</td>\n      <td>2015-12-16 20:48:40</td>\n      <td>&lt;a href=\"http://twitter.com/download/iphone\" r...</td>\n      <td>Say hello to Chuq. He just wants to fit in. 11...</td>\n      <td>https://twitter.com/dog_rates/status/677228873...</td>\n      <td>11</td>\n      <td>10</td>\n      <td>Chuq</td>\n      <td>None</td>\n      <td>None</td>\n      <td>None</td>\n      <td>None</td>\n    </tr>\n    <tr>\n      <th>1703</th>\n      <td>680913438424612864</td>\n      <td>2015-12-27 00:49:49</td>\n      <td>&lt;a href=\"http://twitter.com/download/iphone\" r...</td>\n      <td>Meet Griswold. He's dapper as hell. Already pu...</td>\n      <td>https://twitter.com/dog_rates/status/680913438...</td>\n      <td>11</td>\n      <td>10</td>\n      <td>Griswold</td>\n      <td>None</td>\n      <td>None</td>\n      <td>None</td>\n      <td>None</td>\n    </tr>\n    <tr>\n      <th>1215</th>\n      <td>715009755312439296</td>\n      <td>2016-03-30 02:56:24</td>\n      <td>&lt;a href=\"http://twitter.com/download/iphone\" r...</td>\n      <td>This is Siba. She's remarkably mobile. Very sl...</td>\n      <td>https://twitter.com/dog_rates/status/715009755...</td>\n      <td>12</td>\n      <td>10</td>\n      <td>Siba</td>\n      <td>None</td>\n      <td>None</td>\n      <td>None</td>\n      <td>None</td>\n    </tr>\n    <tr>\n      <th>924</th>\n      <td>755206590534418437</td>\n      <td>2016-07-19 01:04:16</td>\n      <td>&lt;a href=\"http://twitter.com/download/iphone\" r...</td>\n      <td>This is one of the most inspirational stories ...</td>\n      <td>https://twitter.com/dog_rates/status/755206590...</td>\n      <td>14</td>\n      <td>10</td>\n      <td>one</td>\n      <td>doggo</td>\n      <td>None</td>\n      <td>None</td>\n      <td>None</td>\n    </tr>\n    <tr>\n      <th>1386</th>\n      <td>700518061187723268</td>\n      <td>2016-02-19 03:11:35</td>\n      <td>&lt;a href=\"http://twitter.com/download/iphone\" r...</td>\n      <td>This is Vincent. He's the man your girl is wit...</td>\n      <td>https://twitter.com/dog_rates/status/700518061...</td>\n      <td>10</td>\n      <td>10</td>\n      <td>Vincent</td>\n      <td>None</td>\n      <td>None</td>\n      <td>None</td>\n      <td>None</td>\n    </tr>\n    <tr>\n      <th>1868</th>\n      <td>675166823650848770</td>\n      <td>2015-12-11 04:14:49</td>\n      <td>&lt;a href=\"http://twitter.com/download/iphone\" r...</td>\n      <td>This is Arnold. He broke his leg saving a hand...</td>\n      <td>https://twitter.com/dog_rates/status/675166823...</td>\n      <td>10</td>\n      <td>10</td>\n      <td>Arnold</td>\n      <td>None</td>\n      <td>None</td>\n      <td>None</td>\n      <td>None</td>\n    </tr>\n    <tr>\n      <th>1302</th>\n      <td>707610948723478529</td>\n      <td>2016-03-09 16:56:11</td>\n      <td>&lt;a href=\"http://twitter.com/download/iphone\" r...</td>\n      <td>This is Harper. She scraped her elbow attempti...</td>\n      <td>https://twitter.com/dog_rates/status/707610948...</td>\n      <td>12</td>\n      <td>10</td>\n      <td>Harper</td>\n      <td>None</td>\n      <td>None</td>\n      <td>None</td>\n      <td>None</td>\n    </tr>\n    <tr>\n      <th>609</th>\n      <td>797545162159308800</td>\n      <td>2016-11-12 21:02:38</td>\n      <td>&lt;a href=\"http://twitter.com/download/iphone\" r...</td>\n      <td>This is Cassie. She steals things. Guilt incre...</td>\n      <td>https://twitter.com/dog_rates/status/797545162...</td>\n      <td>12</td>\n      <td>10</td>\n      <td>Cassie</td>\n      <td>None</td>\n      <td>None</td>\n      <td>None</td>\n      <td>None</td>\n    </tr>\n    <tr>\n      <th>1896</th>\n      <td>674739953134403584</td>\n      <td>2015-12-09 23:58:35</td>\n      <td>&lt;a href=\"http://twitter.com/download/iphone\" r...</td>\n      <td>\"🎶 DO YOU BELIEVE IN LIFE AFTER LOVE 🎶\"\\n11/10...</td>\n      <td>https://twitter.com/dog_rates/status/674739953...</td>\n      <td>11</td>\n      <td>10</td>\n      <td>None</td>\n      <td>None</td>\n      <td>None</td>\n      <td>None</td>\n      <td>None</td>\n    </tr>\n    <tr>\n      <th>2257</th>\n      <td>667728196545200128</td>\n      <td>2015-11-20 15:36:22</td>\n      <td>&lt;a href=\"http://twitter.com\" rel=\"nofollow\"&gt;Tw...</td>\n      <td>Meet Olive. He comes to spot by tree to remini...</td>\n      <td>https://twitter.com/dog_rates/status/667728196...</td>\n      <td>11</td>\n      <td>10</td>\n      <td>Olive</td>\n      <td>None</td>\n      <td>None</td>\n      <td>None</td>\n      <td>None</td>\n    </tr>\n    <tr>\n      <th>529</th>\n      <td>808344865868283904</td>\n      <td>2016-12-12 16:16:49</td>\n      <td>&lt;a href=\"http://vine.co\" rel=\"nofollow\"&gt;Vine -...</td>\n      <td>This is Seamus. He's very bad at entering pool...</td>\n      <td>https://vine.co/v/5QWd3LZqXxd</td>\n      <td>11</td>\n      <td>10</td>\n      <td>Seamus</td>\n      <td>None</td>\n      <td>None</td>\n      <td>None</td>\n      <td>None</td>\n    </tr>\n    <tr>\n      <th>85</th>\n      <td>876120275196170240</td>\n      <td>2017-06-17 16:52:05</td>\n      <td>&lt;a href=\"http://twitter.com/download/iphone\" r...</td>\n      <td>Meet Venti, a seemingly caffeinated puppoccino...</td>\n      <td>https://twitter.com/dog_rates/status/876120275...</td>\n      <td>13</td>\n      <td>10</td>\n      <td>Venti</td>\n      <td>None</td>\n      <td>None</td>\n      <td>None</td>\n      <td>None</td>\n    </tr>\n    <tr>\n      <th>436</th>\n      <td>820314633777061888</td>\n      <td>2017-01-14 17:00:24</td>\n      <td>&lt;a href=\"http://twitter.com/download/iphone\" r...</td>\n      <td>We are proud to support @LoveYourMelon on thei...</td>\n      <td>https://www.loveyourmelon.com/pages/ourstory,h...</td>\n      <td>14</td>\n      <td>10</td>\n      <td>None</td>\n      <td>None</td>\n      <td>None</td>\n      <td>None</td>\n      <td>None</td>\n    </tr>\n    <tr>\n      <th>1000</th>\n      <td>747963614829678593</td>\n      <td>2016-06-29 01:23:16</td>\n      <td>&lt;a href=\"http://twitter.com/download/iphone\" r...</td>\n      <td>PUPPER NOOOOO BEHIND YOUUU 10/10 pls keep this...</td>\n      <td>https://twitter.com/dog_rates/status/747963614...</td>\n      <td>10</td>\n      <td>10</td>\n      <td>None</td>\n      <td>None</td>\n      <td>None</td>\n      <td>pupper</td>\n      <td>None</td>\n    </tr>\n    <tr>\n      <th>242</th>\n      <td>846153765933735936</td>\n      <td>2017-03-27 00:15:53</td>\n      <td>&lt;a href=\"http://twitter.com/download/iphone\" r...</td>\n      <td>This is Vixen. He really likes bananas. Steals...</td>\n      <td>https://twitter.com/dog_rates/status/846153765...</td>\n      <td>13</td>\n      <td>10</td>\n      <td>Vixen</td>\n      <td>None</td>\n      <td>None</td>\n      <td>None</td>\n      <td>None</td>\n    </tr>\n    <tr>\n      <th>756</th>\n      <td>778650543019483137</td>\n      <td>2016-09-21 17:42:10</td>\n      <td>&lt;a href=\"http://twitter.com/download/iphone\" r...</td>\n      <td>Meet Strider. He thinks he's a sorority girl. ...</td>\n      <td>https://twitter.com/dog_rates/status/778650543...</td>\n      <td>10</td>\n      <td>10</td>\n      <td>Strider</td>\n      <td>None</td>\n      <td>None</td>\n      <td>None</td>\n      <td>None</td>\n    </tr>\n    <tr>\n      <th>339</th>\n      <td>832273440279240704</td>\n      <td>2017-02-16 17:00:25</td>\n      <td>&lt;a href=\"http://twitter.com/download/iphone\" r...</td>\n      <td>Say hello to Smiley. He's a blind therapy dogg...</td>\n      <td>https://twitter.com/dog_rates/status/832273440...</td>\n      <td>14</td>\n      <td>10</td>\n      <td>Smiley</td>\n      <td>doggo</td>\n      <td>None</td>\n      <td>None</td>\n      <td>None</td>\n    </tr>\n    <tr>\n      <th>1780</th>\n      <td>677700003327029250</td>\n      <td>2015-12-18 04:00:46</td>\n      <td>&lt;a href=\"http://twitter.com/download/iphone\" r...</td>\n      <td>This is Ralph. He's an interpretive dancer. 10...</td>\n      <td>https://twitter.com/dog_rates/status/677700003...</td>\n      <td>10</td>\n      <td>10</td>\n      <td>Ralph</td>\n      <td>None</td>\n      <td>None</td>\n      <td>None</td>\n      <td>None</td>\n    </tr>\n    <tr>\n      <th>1268</th>\n      <td>709556954897764353</td>\n      <td>2016-03-15 01:48:55</td>\n      <td>&lt;a href=\"http://twitter.com/download/iphone\" r...</td>\n      <td>This is Cecil. She's a Gigglefloof Poofer. Out...</td>\n      <td>https://twitter.com/dog_rates/status/709556954...</td>\n      <td>12</td>\n      <td>10</td>\n      <td>Cecil</td>\n      <td>None</td>\n      <td>None</td>\n      <td>None</td>\n      <td>None</td>\n    </tr>\n    <tr>\n      <th>338</th>\n      <td>832369877331693569</td>\n      <td>2017-02-16 23:23:38</td>\n      <td>&lt;a href=\"http://twitter.com/download/iphone\" r...</td>\n      <td>This is Charlie. He fell asleep on a heating v...</td>\n      <td>https://twitter.com/dog_rates/status/832369877...</td>\n      <td>11</td>\n      <td>10</td>\n      <td>Charlie</td>\n      <td>None</td>\n      <td>None</td>\n      <td>None</td>\n      <td>None</td>\n    </tr>\n    <tr>\n      <th>1711</th>\n      <td>680497766108381184</td>\n      <td>2015-12-25 21:18:05</td>\n      <td>&lt;a href=\"http://twitter.com/download/iphone\" r...</td>\n      <td>Meet Percy. He's a Latvian Yuletide Heineken. ...</td>\n      <td>https://twitter.com/dog_rates/status/680497766...</td>\n      <td>12</td>\n      <td>10</td>\n      <td>Percy</td>\n      <td>None</td>\n      <td>None</td>\n      <td>None</td>\n      <td>None</td>\n    </tr>\n    <tr>\n      <th>1989</th>\n      <td>672828477930868736</td>\n      <td>2015-12-04 17:23:04</td>\n      <td>&lt;a href=\"http://twitter.com/download/iphone\" r...</td>\n      <td>This is Jerry. He's a Timbuk Slytherin. Eats h...</td>\n      <td>https://twitter.com/dog_rates/status/672828477...</td>\n      <td>9</td>\n      <td>10</td>\n      <td>Jerry</td>\n      <td>None</td>\n      <td>None</td>\n      <td>None</td>\n      <td>None</td>\n    </tr>\n    <tr>\n      <th>459</th>\n      <td>817827839487737858</td>\n      <td>2017-01-07 20:18:46</td>\n      <td>&lt;a href=\"http://twitter.com/download/iphone\" r...</td>\n      <td>This is Buddy. He ran into a glass door once. ...</td>\n      <td>https://twitter.com/dog_rates/status/817827839...</td>\n      <td>13</td>\n      <td>10</td>\n      <td>Buddy</td>\n      <td>None</td>\n      <td>None</td>\n      <td>None</td>\n      <td>None</td>\n    </tr>\n    <tr>\n      <th>451</th>\n      <td>818627210458333184</td>\n      <td>2017-01-10 01:15:10</td>\n      <td>&lt;a href=\"http://twitter.com/download/iphone\" r...</td>\n      <td>Meet Wafer. He represents every fiber of my be...</td>\n      <td>https://twitter.com/dog_rates/status/818627210...</td>\n      <td>13</td>\n      <td>10</td>\n      <td>Wafer</td>\n      <td>None</td>\n      <td>None</td>\n      <td>None</td>\n      <td>None</td>\n    </tr>\n    <tr>\n      <th>1129</th>\n      <td>729463711119904772</td>\n      <td>2016-05-09 00:11:16</td>\n      <td>&lt;a href=\"http://twitter.com/download/iphone\" r...</td>\n      <td>Meet Pupcasso. You can't afford his art. 13/10...</td>\n      <td>https://twitter.com/dog_rates/status/729463711...</td>\n      <td>13</td>\n      <td>10</td>\n      <td>Pupcasso</td>\n      <td>None</td>\n      <td>None</td>\n      <td>None</td>\n      <td>None</td>\n    </tr>\n  </tbody>\n</table>\n</div>"
     },
     "metadata": {},
     "execution_count": 120
    }
   ],
   "source": [
    "df_no_relply_and_retweets.sample(50)"
   ]
  },
  {
   "cell_type": "code",
   "execution_count": 122,
   "metadata": {
    "tags": []
   },
   "outputs": [
    {
     "output_type": "execute_result",
     "data": {
      "text/plain": "             tweet_id           timestamp  \\\n0  892420643555336193 2017-08-01 16:23:56   \n\n                                              source  \\\n0  <a href=\"http://twitter.com/download/iphone\" r...   \n\n                                                text  \\\n0  This is Phineas. He's a mystical boy. Only eve...   \n\n                                       expanded_urls  rating_numerator  \\\n0  https://twitter.com/dog_rates/status/892420643...                13   \n\n   rating_denominator     name doggo floofer pupper puppo  \n0                  10  Phineas  None    None   None  None  ",
      "text/html": "<div>\n<style scoped>\n    .dataframe tbody tr th:only-of-type {\n        vertical-align: middle;\n    }\n\n    .dataframe tbody tr th {\n        vertical-align: top;\n    }\n\n    .dataframe thead th {\n        text-align: right;\n    }\n</style>\n<table border=\"1\" class=\"dataframe\">\n  <thead>\n    <tr style=\"text-align: right;\">\n      <th></th>\n      <th>tweet_id</th>\n      <th>timestamp</th>\n      <th>source</th>\n      <th>text</th>\n      <th>expanded_urls</th>\n      <th>rating_numerator</th>\n      <th>rating_denominator</th>\n      <th>name</th>\n      <th>doggo</th>\n      <th>floofer</th>\n      <th>pupper</th>\n      <th>puppo</th>\n    </tr>\n  </thead>\n  <tbody>\n    <tr>\n      <th>0</th>\n      <td>892420643555336193</td>\n      <td>2017-08-01 16:23:56</td>\n      <td>&lt;a href=\"http://twitter.com/download/iphone\" r...</td>\n      <td>This is Phineas. He's a mystical boy. Only eve...</td>\n      <td>https://twitter.com/dog_rates/status/892420643...</td>\n      <td>13</td>\n      <td>10</td>\n      <td>Phineas</td>\n      <td>None</td>\n      <td>None</td>\n      <td>None</td>\n      <td>None</td>\n    </tr>\n  </tbody>\n</table>\n</div>"
     },
     "metadata": {},
     "execution_count": 122
    }
   ],
   "source": [
    "df_no_relply_and_retweets.head(1)"
   ]
  },
  {
   "cell_type": "code",
   "execution_count": 99,
   "metadata": {},
   "outputs": [],
   "source": [
    "df_prdictions=pd.read_csv('C:/Users/v19babaza/Downloads/New folder (2)/image-predictions-3.tsv',sep='\t')"
   ]
  },
  {
   "cell_type": "code",
   "execution_count": 114,
   "metadata": {
    "tags": []
   },
   "outputs": [
    {
     "output_type": "stream",
     "name": "stdout",
     "text": "<class 'pandas.core.frame.DataFrame'>\nRangeIndex: 2075 entries, 0 to 2074\nData columns (total 12 columns):\n #   Column    Non-Null Count  Dtype  \n---  ------    --------------  -----  \n 0   tweet_id  2075 non-null   int64  \n 1   jpg_url   2075 non-null   object \n 2   img_num   2075 non-null   int64  \n 3   p1        2075 non-null   object \n 4   p1_conf   2075 non-null   float64\n 5   p1_dog    2075 non-null   bool   \n 6   p2        2075 non-null   object \n 7   p2_conf   2075 non-null   float64\n 8   p2_dog    2075 non-null   bool   \n 9   p3        2075 non-null   object \n 10  p3_conf   2075 non-null   float64\n 11  p3_dog    2075 non-null   bool   \ndtypes: bool(3), float64(3), int64(2), object(4)\nmemory usage: 152.1+ KB\n"
    }
   ],
   "source": [
    "df_prdictions.info()"
   ]
  },
  {
   "cell_type": "code",
   "execution_count": 117,
   "metadata": {},
   "outputs": [],
   "source": [
    "df_temp=df_prdictions[(df_prdictions.p1_dog == True) | (df_prdictions.p2_dog == True) | (df_prdictions.p3_dog == True)]"
   ]
  },
  {
   "cell_type": "code",
   "execution_count": 118,
   "metadata": {
    "tags": []
   },
   "outputs": [
    {
     "output_type": "stream",
     "name": "stdout",
     "text": "<class 'pandas.core.frame.DataFrame'>\nInt64Index: 1751 entries, 0 to 2073\nData columns (total 12 columns):\n #   Column    Non-Null Count  Dtype  \n---  ------    --------------  -----  \n 0   tweet_id  1751 non-null   int64  \n 1   jpg_url   1751 non-null   object \n 2   img_num   1751 non-null   int64  \n 3   p1        1751 non-null   object \n 4   p1_conf   1751 non-null   float64\n 5   p1_dog    1751 non-null   bool   \n 6   p2        1751 non-null   object \n 7   p2_conf   1751 non-null   float64\n 8   p2_dog    1751 non-null   bool   \n 9   p3        1751 non-null   object \n 10  p3_conf   1751 non-null   float64\n 11  p3_dog    1751 non-null   bool   \ndtypes: bool(3), float64(3), int64(2), object(4)\nmemory usage: 141.9+ KB\n"
    }
   ],
   "source": [
    "df_temp.info()"
   ]
  },
  {
   "cell_type": "code",
   "execution_count": null,
   "metadata": {},
   "outputs": [],
   "source": []
  }
 ]
}